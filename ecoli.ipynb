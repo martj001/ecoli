{
 "cells": [
  {
   "cell_type": "markdown",
   "metadata": {
    "pycharm": {
     "name": "#%% md\n"
    }
   },
   "source": [
    "## Metagenome Binning\n",
    " - Recent development in high-throughput sequencing / genomic analyses of all microbes in a sample\n",
    " - Shotgun metagenomics produces a collection of reads\n",
    " - Metagenomic binning aim to reconstruct genomes from the metagenomes of microbiome samples.\n",
    "\n",
    "## Data"
   ]
  },
  {
   "cell_type": "code",
   "execution_count": 5,
   "outputs": [
    {
     "data": {
      "text/plain": "           1775    1779    1781   1951   1773  1889   1891    1911    1913  \\\nsample_0  27865   12446  113685  70456  28063   250   2763  123556   13804   \nsample_1  17560  100901   27049  70482  17419    72  22250   29471  108913   \nsample_2  84161   46355   42729  49924  84624   100  10347   46477   49829   \nsample_3   7761   76767   58623  75064   7897   140  16792   63795   82819   \nsample_4  22499  120087    3557  68473  22873    10  26320    3982  129474   \n\n           1963   1967  345142  \nsample_0  80001  22071       0  \nsample_1  80260  20790       0  \nsample_2  56000  24874       0  \nsample_3  84978  20475       0  \nsample_4  77588  20524       0  ",
      "text/html": "<div>\n<style scoped>\n    .dataframe tbody tr th:only-of-type {\n        vertical-align: middle;\n    }\n\n    .dataframe tbody tr th {\n        vertical-align: top;\n    }\n\n    .dataframe thead th {\n        text-align: right;\n    }\n</style>\n<table border=\"1\" class=\"dataframe\">\n  <thead>\n    <tr style=\"text-align: right;\">\n      <th></th>\n      <th>1775</th>\n      <th>1779</th>\n      <th>1781</th>\n      <th>1951</th>\n      <th>1773</th>\n      <th>1889</th>\n      <th>1891</th>\n      <th>1911</th>\n      <th>1913</th>\n      <th>1963</th>\n      <th>1967</th>\n      <th>345142</th>\n    </tr>\n  </thead>\n  <tbody>\n    <tr>\n      <th>sample_0</th>\n      <td>27865</td>\n      <td>12446</td>\n      <td>113685</td>\n      <td>70456</td>\n      <td>28063</td>\n      <td>250</td>\n      <td>2763</td>\n      <td>123556</td>\n      <td>13804</td>\n      <td>80001</td>\n      <td>22071</td>\n      <td>0</td>\n    </tr>\n    <tr>\n      <th>sample_1</th>\n      <td>17560</td>\n      <td>100901</td>\n      <td>27049</td>\n      <td>70482</td>\n      <td>17419</td>\n      <td>72</td>\n      <td>22250</td>\n      <td>29471</td>\n      <td>108913</td>\n      <td>80260</td>\n      <td>20790</td>\n      <td>0</td>\n    </tr>\n    <tr>\n      <th>sample_2</th>\n      <td>84161</td>\n      <td>46355</td>\n      <td>42729</td>\n      <td>49924</td>\n      <td>84624</td>\n      <td>100</td>\n      <td>10347</td>\n      <td>46477</td>\n      <td>49829</td>\n      <td>56000</td>\n      <td>24874</td>\n      <td>0</td>\n    </tr>\n    <tr>\n      <th>sample_3</th>\n      <td>7761</td>\n      <td>76767</td>\n      <td>58623</td>\n      <td>75064</td>\n      <td>7897</td>\n      <td>140</td>\n      <td>16792</td>\n      <td>63795</td>\n      <td>82819</td>\n      <td>84978</td>\n      <td>20475</td>\n      <td>0</td>\n    </tr>\n    <tr>\n      <th>sample_4</th>\n      <td>22499</td>\n      <td>120087</td>\n      <td>3557</td>\n      <td>68473</td>\n      <td>22873</td>\n      <td>10</td>\n      <td>26320</td>\n      <td>3982</td>\n      <td>129474</td>\n      <td>77588</td>\n      <td>20524</td>\n      <td>0</td>\n    </tr>\n  </tbody>\n</table>\n</div>"
     },
     "execution_count": 5,
     "metadata": {},
     "output_type": "execute_result"
    }
   ],
   "source": [
    "import pandas as pd\n",
    "pd.read_csv('./data/toy_example_3/count_matrix.csv', index_col=0).head()"
   ],
   "metadata": {
    "collapsed": false,
    "pycharm": {
     "name": "#%%\n"
    }
   }
  },
  {
   "cell_type": "markdown",
   "source": [
    "## Existing Metagenome binning model\n",
    "- Existing Metagenome binning model exhibit poor performance on shared contigs\n",
    "- Do not accurately model the underlying biological process (contigs can originate from multiple genomes)\n",
    "- Hierarchical Poisson Factorization (HPF)\n",
    "- Flow Regularized-HPF (FR-HPF)\n",
    "\n",
    "## Hierarchical Poisson Factorization (HPF)\n",
    "- $x_{s c} \\sim \\operatorname{Poisson}(\\theta_{s} \\cdot \\beta_{c})$\n",
    "- $\\xi{s} \\sim \\operatorname{Gamma}(a', a' / b')$\n",
    "- $\\eta_{c} \\sim \\operatorname{Gamma}(d', d' / e')$\n",
    "- $\\theta_{s k} \\sim \\operatorname{Gamma}(a, \\xi_{s})$\n",
    "- $\\beta_{c k} \\sim \\operatorname{Gamma}(d, \\eta_{c})$\n",
    "\n",
    "## Flow Regularized - HPF\n",
    "- Replace count matrix by in-out edge of assembly graph\n",
    "- Added flow constraint: for each node inflow edge - outflow edge = 0\n",
    "- Let $F_{ck} =  \\sum_{(u, c) \\in \\mathcal{E}} \\beta_{(u, c)}-\\sum_{(c, v) \\in \\mathcal{E}} \\beta_{(c, v)}$, then $ F_{ck} \\sim \\operatorname{N}(0, q)$, where parameter $q$ controls the penalty  for violating the flow constraints.\n",
    "\n",
    "## Metagenome binning goal\n",
    "- Recover $\\beta$ matrix\n",
    "- Identify contig to genome mapping"
   ],
   "metadata": {
    "collapsed": false,
    "pycharm": {
     "name": "#%% md\n"
    }
   }
  },
  {
   "cell_type": "code",
   "execution_count": 3,
   "outputs": [
    {
     "data": {
      "image/png": "[encoded data removed]",
      "text/plain": "<IPython.core.display.Image object>"
     },
     "execution_count": 3,
     "metadata": {
      "image/png": {
       "width": 500,
       "height": 500
      }
     },
     "output_type": "execute_result"
    }
   ],
   "source": [
    "from IPython.display import Image\n",
    "Image('./data/image/hpf.png', width=500, height=500)"
   ],
   "metadata": {
    "collapsed": false,
    "pycharm": {
     "name": "#%%\n"
    }
   }
  },
  {
   "cell_type": "markdown",
   "source": [],
   "metadata": {
    "collapsed": false,
    "pycharm": {
     "name": "#%% md\n"
    }
   }
  },
  {
   "cell_type": "markdown",
   "source": [
    "## Project goal\n",
    "- Analyze the performance of HPF and FR-HPF and understand why the algorithm fails\n",
    "- Simulating data for FR-HPF is costly. Therefore, we want to analyze behavior of HPF for a better understanding of FR-HPF"
   ],
   "metadata": {
    "collapsed": false,
    "pycharm": {
     "name": "#%% md\n"
    }
   }
  },
  {
   "cell_type": "markdown",
   "source": [],
   "metadata": {
    "collapsed": false,
    "pycharm": {
     "name": "#%% md\n"
    }
   }
  },
  {
   "cell_type": "markdown",
   "source": [
    "## Prior Predictive check\n",
    "- The first decision in Bayesian data analysis is specifying prior\n",
    "- The goal of prior predictive check is to ensure selected priors are in a reasonable scale\n",
    "\n",
    "## Procedure\n",
    "- $\\theta^{sim} \\sim \\operatorname{\\theta}$\n",
    "- $y^{sim} \\sim \\operatorname{P}(y|\\theta^{sim})$\n",
    "- Check scatter plot of $y^{sim}$, $y$ in log scale or histogram of $y^{sim}$ and $y$"
   ],
   "metadata": {
    "collapsed": false,
    "pycharm": {
     "name": "#%% md\n"
    }
   }
  },
  {
   "cell_type": "code",
   "execution_count": 5,
   "outputs": [],
   "source": [
    "from src.prior_predictive_check.prior_predictive import plot_prior_predictive_check"
   ],
   "metadata": {
    "collapsed": false,
    "pycharm": {
     "name": "#%%\n"
    }
   }
  },
  {
   "cell_type": "code",
   "execution_count": 6,
   "outputs": [
    {
     "data": {
      "text/plain": "<Figure size 1080x360 with 3 Axes>",
      "image/png": "[encoded data removed]"
     },
     "metadata": {
      "needs_background": "light"
     },
     "output_type": "display_data"
    }
   ],
   "source": [
    "plot_prior_predictive_check()"
   ],
   "metadata": {
    "collapsed": false,
    "pycharm": {
     "name": "#%%\n"
    }
   }
  },
  {
   "cell_type": "markdown",
   "source": [
    "## Result\n",
    "- Selected hyperparameter can generate data similar scale"
   ],
   "metadata": {
    "collapsed": false,
    "pycharm": {
     "name": "#%% md\n"
    }
   }
  },
  {
   "cell_type": "markdown",
   "source": [
    "## HPF vs FR-HPF on Toy dataset\n",
    "- K = 3, S = 10, C = 12\n",
    "\n",
    "### Evaluation criteria\n",
    "- The goal of this study was to measure how many $\\beta$ vectors can be accurately recovered\n",
    "- \"accurately recovered\": cosine similarity between $\\beta_{fit}$ and $\\beta_{gt}$ > 0.9\n",
    "- Computed the pairwise cosine distance between each $\\beta_{fit}$ and $\\beta_{gt}$\n",
    "- Iteratively matched $\\beta_{fit}$ - $\\beta_{gt}$ pair with the highest similarity\n",
    "- number of $\\beta$ vector recovered: the diagonal of matched similarity matrix > 0.9"
   ],
   "metadata": {
    "collapsed": false,
    "pycharm": {
     "name": "#%% md\n"
    }
   }
  },
  {
   "cell_type": "code",
   "execution_count": 8,
   "outputs": [],
   "source": [
    "%%time\n",
    "import src.evaluator.evaluation as model_eval\n",
    "from src.binning_manager.hpf import hpf\n",
    "from src.binning_manager import wrapper\n",
    "\n",
    "config = wrapper.get_hpf_config()\n",
    "cm = config['stan_model_input']['count_matrix']\n",
    "model_hpf = hpf.HPF(config)\n",
    "model_hpf.fit(5e5, 1e5, verbose=False) # To check ELBO, set verbose=True"
   ],
   "metadata": {
    "collapsed": false,
    "pycharm": {
     "name": "#%%\n"
    }
   }
  },
  {
   "cell_type": "code",
   "execution_count": 23,
   "outputs": [
    {
     "name": "stdout",
     "output_type": "stream",
     "text": [
      "Cosine similarity:\n",
      " [[0.86324378 0.2917314  0.0414406 ]\n",
      " [0.31977096 0.75835486 0.04288318]\n",
      " [0.04164026 0.03919137 0.75401072]]\n",
      "# of fitted beta vectors: 0\n"
     ]
    }
   ],
   "source": [
    "model_hpf.get_posterior()\n",
    "beta_fit = model_hpf.beta_fit\n",
    "cm_sample = model_hpf.cm_sample\n",
    "beta_gt = wrapper.get_beta_gt('toy_example_3')\n",
    "_ = model_eval.evaluate_beta_fit(beta_fit, beta_gt)"
   ],
   "metadata": {
    "collapsed": false,
    "pycharm": {
     "name": "#%%\n"
    }
   }
  },
  {
   "cell_type": "code",
   "execution_count": 7,
   "outputs": [],
   "source": [
    "%%time\n",
    "import src.evaluator.evaluation as model_eval\n",
    "from src.binning_manager.frhpf import frhpf\n",
    "from src.binning_manager import wrapper\n",
    "\n",
    "config = wrapper.get_frhpf_config('toy_example_3')\n",
    "model_frhpf = frhpf.FRHPF(config)\n",
    "model_frhpf.fit(1e4, verbose=False) # To check ELBO, set verbose=True"
   ],
   "metadata": {
    "collapsed": false,
    "pycharm": {
     "name": "#%%\n"
    }
   }
  },
  {
   "cell_type": "code",
   "execution_count": 25,
   "outputs": [
    {
     "name": "stdout",
     "output_type": "stream",
     "text": [
      "Cosine similarity:\n",
      " [[0.99889447 0.48096117 0.2184311 ]\n",
      " [0.48610416 0.99332703 0.4561543 ]\n",
      " [0.31387796 0.44582705 0.99292953]]\n",
      "# of fitted beta vectors: 3\n"
     ]
    }
   ],
   "source": [
    "model_frhpf.get_posterior()\n",
    "beta_fit = model_frhpf.beta_fit\n",
    "cm_sample = model_frhpf.cm_sample\n",
    "beta_gt = wrapper.get_beta_gt('toy_example_3')\n",
    "_ = model_eval.evaluate_beta_fit(beta_fit, beta_gt)"
   ],
   "metadata": {
    "collapsed": false,
    "pycharm": {
     "name": "#%%\n"
    }
   }
  },
  {
   "cell_type": "markdown",
   "source": [
    "## Results\n",
    "- HPF was able to approximate the general direction of $\\beta$ vectors\n",
    "- FR-HPF could estimate $\\beta$ vectors more accurately and required fewer iterations to converge"
   ],
   "metadata": {
    "collapsed": false,
    "pycharm": {
     "name": "#%% md\n"
    }
   },
   "outputs": [
    {
     "ename": "SyntaxError",
     "evalue": "invalid syntax (175574819.py, line 2)",
     "output_type": "error",
     "traceback": [
      "\u001B[0;36m  File \u001B[0;32m\"/tmp/ipykernel_21923/175574819.py\"\u001B[0;36m, line \u001B[0;32m2\u001B[0m\n\u001B[0;31m    - HPF is able to approximate the general direction of $\\beta$ vectors\u001B[0m\n\u001B[0m                  ^\u001B[0m\n\u001B[0;31mSyntaxError\u001B[0m\u001B[0;31m:\u001B[0m invalid syntax\n"
     ]
    }
   ],
   "execution_count": 4
  },
  {
   "cell_type": "markdown",
   "source": [
    "## HPF on a more realistic dataset\n",
    "- K = 5, S = 10, C = 1286"
   ],
   "metadata": {
    "collapsed": false
   }
  },
  {
   "cell_type": "code",
   "execution_count": 6,
   "outputs": [],
   "source": [
    "%%time\n",
    "import src.evaluator.evaluation as model_eval\n",
    "from src.binning_manager.hpf import hpf\n",
    "from src.binning_manager import wrapper\n",
    "\n",
    "config = wrapper.get_hpf_config('S10')\n",
    "cm = config['stan_model_input']['count_matrix']\n",
    "model = hpf.HPF(config)\n",
    "model.fit(2e5, 5e4, verbose=False)"
   ],
   "metadata": {
    "collapsed": false,
    "pycharm": {
     "name": "#%%\n"
    }
   }
  },
  {
   "cell_type": "code",
   "execution_count": 36,
   "outputs": [
    {
     "name": "stdout",
     "output_type": "stream",
     "text": [
      "Cosine similarity:\n",
      " [[0.41737328 0.00098754 0.00232519 0.00395968 0.00332235]\n",
      " [0.01371729 0.47418398 0.0066292  0.01115525 0.00913988]\n",
      " [0.0034647  0.00577691 0.44327464 0.01981093 0.00792288]\n",
      " [0.00093737 0.0021815  0.00234767 0.34445269 0.00571793]\n",
      " [0.00265378 0.00304718 0.00486929 0.00950326 0.40408037]]\n",
      "# of fitted beta vectors: 0\n"
     ]
    }
   ],
   "source": [
    "import numpy as np\n",
    "np.set_printoptions(suppress=True)\n",
    "\n",
    "model.get_posterior()\n",
    "beta_fit = model.beta_fit\n",
    "cm_sample = model.cm_sample\n",
    "beta_gt = wrapper.get_beta_gt('S10')\n",
    "_ = model_eval.evaluate_beta_fit(beta_fit, beta_gt)"
   ],
   "metadata": {
    "collapsed": false,
    "pycharm": {
     "name": "#%%\n"
    }
   }
  },
  {
   "cell_type": "markdown",
   "source": [
    "## Results\n",
    "- Both HPF and FR-HPF experienced a decrease in performance measure by cosine similarity to ground truth $\\beta$\n",
    "- FR-HPF omitted since it requires a very large dataset which is not permitted according to course policy\n",
    "- The next step was to understand what cause the decrease in performance"
   ],
   "metadata": {
    "collapsed": false
   }
  },
  {
   "cell_type": "markdown",
   "source": [
    "## Posterior predictive check (PPC)\n",
    "Posterior predictive check was performed to test if the model fits the data.\n",
    "$$p(x|X) = \\int p(x|\\theta, X)p(\\theta|X) ~d\\theta  = \\int p(x|\\theta) p(\\theta|X) ~d\\theta$$\n",
    "\n",
    "### Procedure:\n",
    "- $\\theta^{m} \\sim \\operatorname{\\theta|y}$\n",
    "- $y^{sim(m)} \\sim \\operatorname{P}(y|\\theta^{m})$\n",
    "- Compare statistics $s()$ between $y$ and $y^{sim(m)}$.\n",
    "- Compute p-value = $\\operatorname{min}(\\operatorname{P}[s(y)<s(y^{sim})], 1-\\operatorname{P}[s(y)<s(y^{sim})])$\n",
    "\n",
    "### If the posterior samples does not agree with observation\n",
    "- Model could be incorrect $p(x|\\theta)$\n",
    "- Posterior approximation $p(\\theta|X)$ could be incorrect due to inference procedure"
   ],
   "metadata": {
    "collapsed": false,
    "pycharm": {
     "name": "#%% md\n"
    }
   },
   "execution_count": 3
  },
  {
   "cell_type": "code",
   "execution_count": 37,
   "outputs": [
    {
     "name": "stdout",
     "output_type": "stream",
     "text": [
      "Hypothesis testing: 95% C.I. of Predictive posterior: \n",
      "% of PPC C.I. check failure: 0.011275272161741835\n"
     ]
    }
   ],
   "source": [
    "model_eval.reject_ppc_outside_ci(cm, cm_sample)"
   ],
   "metadata": {
    "collapsed": false,
    "pycharm": {
     "name": "#%%\n"
    }
   }
  },
  {
   "cell_type": "code",
   "execution_count": 38,
   "outputs": [
    {
     "data": {
      "text/plain": "<Figure size 648x648 with 9 Axes>",
      "image/png": "[encoded data removed]"
     },
     "metadata": {
      "needs_background": "light"
     },
     "output_type": "display_data"
    }
   ],
   "source": [
    "# PPC for count matrix[0:3, 0:3], red line indicate ground truth\n",
    "model_eval.plot_ppc_simple(cm, cm_sample)"
   ],
   "metadata": {
    "collapsed": false,
    "pycharm": {
     "name": "#%%\n"
    }
   }
  },
  {
   "cell_type": "markdown",
   "source": [
    "## Results\n",
    "- Although fitted $\\beta$ and $\\theta$ did converge to ground truth, posterior predictive sample converge to count matrix\n",
    "- HPF could be overfitting data / Model was too flexible to describe data\n"
   ],
   "metadata": {
    "collapsed": false,
    "pycharm": {
     "name": "#%% md\n"
    }
   }
  },
  {
   "cell_type": "markdown",
   "source": [
    "## Simulation-based calibration (SBC)\n",
    "- Before check for overfitting, we want to ensure ADVI is a valid inference algorithm for HPF\n",
    "- If we fix hyperparameters and generate data according to model, a valid inference algorithm should recover the generating hyperparameters\n",
    "- Idea is similar to PPC:\n",
    "    - PPC check for: $p(x|X)$\n",
    "    - SBC check for: $p(\\hat\\theta|\\theta)$\n",
    "\n",
    "## Procedure:\n",
    "- $\\theta^{sim} \\sim \\operatorname{\\theta}$\n",
    "- $y^{sim} \\sim \\operatorname{P}(y|\\theta^{sim})$\n",
    "- $\\theta^{(1)}, ..., \\theta^{(S)} \\sim \\operatorname{P}(\\theta|y^{sim})$\n",
    "- Check if the rank statistic is uniformly distributed"
   ],
   "metadata": {
    "collapsed": false
   }
  },
  {
   "cell_type": "code",
   "execution_count": 4,
   "outputs": [],
   "source": [
    "%%time\n",
    "from src.simulation_based_calibration.sbc import SBC\n",
    "\n",
    "sbc = SBC(K=3, S=50, C=5)\n",
    "sbc.run(40)"
   ],
   "metadata": {
    "collapsed": false,
    "pycharm": {
     "name": "#%%\n"
    }
   }
  },
  {
   "cell_type": "code",
   "execution_count": 4,
   "outputs": [
    {
     "data": {
      "text/plain": "<Figure size 648x648 with 9 Axes>",
      "image/png": "[encoded data removed]"
     },
     "metadata": {
      "needs_background": "light"
     },
     "output_type": "display_data"
    }
   ],
   "source": [
    "# SCB rank statistics for beta[0:3, 0:3]\n",
    "sbc.plot_individual_SCB('beta')"
   ],
   "metadata": {
    "collapsed": false,
    "pycharm": {
     "name": "#%%\n"
    }
   }
  },
  {
   "cell_type": "code",
   "execution_count": 5,
   "outputs": [
    {
     "data": {
      "text/plain": "<Figure size 432x288 with 1 Axes>",
      "image/png": "[encoded data removed]"
     },
     "metadata": {
      "needs_background": "light"
     },
     "output_type": "display_data"
    }
   ],
   "source": [
    "# SCB rank statistics for all beta\n",
    "sbc.plot_aggregate_SCB('beta')"
   ],
   "metadata": {
    "collapsed": false,
    "pycharm": {
     "name": "#%%\n"
    }
   }
  },
  {
   "cell_type": "code",
   "execution_count": 6,
   "outputs": [
    {
     "data": {
      "text/plain": "<Figure size 432x288 with 1 Axes>",
      "image/png": "[encoded data removed]"
     },
     "metadata": {
      "needs_background": "light"
     },
     "output_type": "display_data"
    }
   ],
   "source": [
    "# SCB rank statistics for all lambda\n",
    "sbc.plot_aggregate_SCB('lambda')"
   ],
   "metadata": {
    "collapsed": false,
    "pycharm": {
     "name": "#%%\n"
    }
   }
  },
  {
   "cell_type": "markdown",
   "source": [
    "## Results\n",
    "- SCB was inconclusive, at least ADVI cannot find accurate $\\beta$ for HPF under $S/C = 10$\n",
    "- The posterior sample $\\beta$ did not pass rank statistic test on individual or an aggregated level\n",
    "- The predictive posterior sample $x_{ij}$ only passed rank statistic test on an aggregated level\n",
    "- However, failing SBC does not imply $\\beta$ vectors are incorrect\n",
    "- $\\frac{1}{k}\\theta$ and $k\\beta$ should be considered a valid solution"
   ],
   "metadata": {
    "collapsed": false,
    "pycharm": {
     "name": "#%% md\n"
    }
   }
  },
  {
   "cell_type": "markdown",
   "source": [
    "## Model performance under limited number of samples\n",
    "## Over-parametrization problem\n",
    "- The model used $K(S+C)$ parameters to fit $SC$ data\n",
    "- In Metagenome binning, typically only a small number of samples are available\n",
    "- $C>1000$, $S~=30$ and $K~=50$\n",
    "- Since $S << C$, $K(S+C) > SC$\n",
    "    - $K(S+C) ~= KC = 50 \\cdot (10+1e4) = 5e5$\n",
    "    - $SC = 30 \\cdot 1e4 = 3e5$\n",
    "- We will test the model performance with different samples size\n"
   ],
   "metadata": {
    "collapsed": false,
    "pycharm": {
     "name": "#%% md\n"
    }
   }
  },
  {
   "cell_type": "code",
   "execution_count": 5,
   "outputs": [],
   "source": [
    "%%time\n",
    "from src.evaluator.k_s_study import K_S_study\n",
    "ksd = K_S_study()\n",
    "ksd.run()"
   ],
   "metadata": {
    "collapsed": false,
    "pycharm": {
     "name": "#%%\n"
    }
   }
  },
  {
   "cell_type": "code",
   "execution_count": 4,
   "outputs": [
    {
     "data": {
      "text/plain": "Text(0, 0.5, 'n_recovered')"
     },
     "execution_count": 4,
     "metadata": {},
     "output_type": "execute_result"
    },
    {
     "data": {
      "text/plain": "<Figure size 720x216 with 2 Axes>",
      "image/png": "[encoded data removed]"
     },
     "metadata": {
      "needs_background": "light"
     },
     "output_type": "display_data"
    }
   ],
   "source": [
    "# Evaluating beta_fit when number of sample is increased\n",
    "ksd.plot()"
   ],
   "metadata": {
    "collapsed": false,
    "pycharm": {
     "name": "#%%\n"
    }
   }
  },
  {
   "cell_type": "markdown",
   "source": [
    "## Results\n",
    "- A large number of samples is required for HPF to accurately fit $\\beta$\n",
    "- FR-HPF also showed similar behavior\n"
   ],
   "metadata": {
    "collapsed": false,
    "pycharm": {
     "name": "#%% md\n"
    }
   }
  },
  {
   "cell_type": "markdown",
   "source": [
    "## Is PPC the right metric for evaluating goodness of fit?\n",
    "- We compared predictive posterior sample of HPF and FR-HPF\n",
    "- We use number of rejection $x_{ij}$ on posterior predictive distribution $\\{x_{sim}\\}$ as measure of goodness of fit under PPC"
   ],
   "metadata": {
    "collapsed": false,
    "pycharm": {
     "name": "#%% md\n"
    }
   }
  },
  {
   "cell_type": "code",
   "execution_count": 26,
   "outputs": [
    {
     "name": "stdout",
     "output_type": "stream",
     "text": [
      "Hypothesis testing: 95% C.I. of Predictive posterior: \n",
      "% of PPC C.I. check failure: 0.0\n"
     ]
    }
   ],
   "source": [
    "# For HPF: Number of rejections based on posterior sample confidence interval\n",
    "\n",
    "import src.evaluator.evaluation as model_eval\n",
    "from src.binning_manager.hpf import hpf\n",
    "from src.binning_manager import wrapper\n",
    "\n",
    "config = wrapper.get_hpf_config()\n",
    "cm = config['stan_model_input']['count_matrix']\n",
    "model_hpf = hpf.HPF(config)\n",
    "model_hpf.fit(5e5, 1e5, verbose=False) # To check ELBO, set verbose=True\n",
    "model_hpf.get_posterior()\n",
    "cm_sample = model_hpf.cm_sample\n",
    "\n",
    "model_eval.reject_ppc_outside_ci(cm, cm_sample)"
   ],
   "metadata": {
    "collapsed": false,
    "pycharm": {
     "name": "#%%\n"
    }
   }
  },
  {
   "cell_type": "code",
   "execution_count": 32,
   "outputs": [
    {
     "name": "stdout",
     "output_type": "stream",
     "text": [
      "Hypothesis testing: 95% C.I. of Predictive posterior: \n",
      "% of PPC C.I. check failure: 0.575\n"
     ]
    }
   ],
   "source": [
    "# For FR-HPF: Number of rejections based on posterior sample confidence interval\n",
    "\n",
    "import src.evaluator.evaluation as model_eval\n",
    "from src.binning_manager.hpf import hpf\n",
    "from src.binning_manager import wrapper\n",
    "\n",
    "config = wrapper.get_frhpf_config('toy_example_3')\n",
    "model_frhpf = frhpf.FRHPF(config)\n",
    "model_frhpf.fit(1e4, verbose=False) # To check ELBO, set verbose=True\n",
    "model_frhpf.get_posterior()\n",
    "cm_sample = model_frhpf.cm_sample\n",
    "\n",
    "model_eval.reject_ppc_outside_ci(cm, cm_sample)"
   ],
   "metadata": {
    "collapsed": false,
    "pycharm": {
     "name": "#%%\n"
    }
   }
  },
  {
   "cell_type": "code",
   "execution_count": 33,
   "outputs": [
    {
     "name": "stdout",
     "output_type": "stream",
     "text": [
      "pp sample mean: 1554.16  | gt: 0  | ratio: 0.0\n",
      "pp sample mean: 488.03  | gt: 0  | ratio: 0.0\n",
      "pp sample mean: 1395.8  | gt: 0  | ratio: 0.0\n",
      "pp sample mean: 717.04  | gt: 0  | ratio: 0.0\n",
      "pp sample mean: 289.08  | gt: 0  | ratio: 0.0\n",
      "pp sample mean: 1663.85  | gt: 0  | ratio: 0.0\n",
      "pp sample mean: 1982.51  | gt: 0  | ratio: 0.0\n",
      "pp sample mean: 1313.19  | gt: 0  | ratio: 0.0\n",
      "pp sample mean: 683.89  | gt: 0  | ratio: 0.0\n"
     ]
    },
    {
     "data": {
      "text/plain": "<Figure size 648x648 with 9 Axes>",
      "image/png": "[encoded data removed]"
     },
     "metadata": {
      "needs_background": "light"
     },
     "output_type": "display_data"
    }
   ],
   "source": [
    "# PPC for FR-HPF, low values in count matrix\n",
    "model_eval.plot_ppc_extreme(cm, cm_sample, 'low')"
   ],
   "metadata": {
    "collapsed": false,
    "pycharm": {
     "name": "#%%\n"
    }
   }
  },
  {
   "cell_type": "markdown",
   "source": [
    "## Results\n",
    "- For HPF, PPC rejection rate was 0%\n",
    "- For FR-HPF, PPC rejection rate was around 60%\n",
    "- For FR-HPF, PPC distribution $\\{x_{sim}\\}$ did not match ground truth\n",
    "- However, FR-HPF fitted $\\beta$ far more accurate than HPF\n",
    "\n",
    "## Discussion\n",
    "- Does this implies model of FR-HPF is incorrect?\n",
    "- Does Overfitting invalidate PPC result?"
   ],
   "metadata": {
    "collapsed": false,
    "pycharm": {
     "name": "#%% md\n"
    }
   }
  },
  {
   "cell_type": "markdown",
   "source": [
    "## Conclusion\n",
    "- HPF could not reliably fit parameters when the sample size $S$ is small relative to number of genomes $K$\n",
    "- HPF is not an appropriate model for metagenome binning\n",
    "- Possible improvement: injecting prior information into $\\theta$ matrix\n"
   ],
   "metadata": {
    "collapsed": false,
    "pycharm": {
     "name": "#%% md\n"
    }
   }
  },
  {
   "cell_type": "markdown",
   "source": [],
   "metadata": {
    "collapsed": false,
    "pycharm": {
     "name": "#%% md\n"
    }
   }
  }
 ],
 "metadata": {
  "kernelspec": {
   "display_name": "Python 3 (ipykernel)",
   "language": "python",
   "name": "python3"
  },
  "language_info": {
   "codemirror_mode": {
    "name": "ipython",
    "version": 3
   },
   "file_extension": ".py",
   "mimetype": "text/x-python",
   "name": "python",
   "nbconvert_exporter": "python",
   "pygments_lexer": "ipython3",
   "version": "3.9.7"
  }
 },
 "nbformat": 4,
 "nbformat_minor": 1
}